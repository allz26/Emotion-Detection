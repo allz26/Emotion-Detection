{
 "cells": [
  {
   "cell_type": "code",
   "execution_count": 1,
   "id": "d6dc122c",
   "metadata": {},
   "outputs": [],
   "source": [
    "import cv2\n",
    "from keras.models import Sequential\n",
    "from keras.layers import Conv2D, MaxPooling2D, Dense, Dropout, Flatten\n",
    "from keras.optimizers import Adam\n",
    "from keras.preprocessing.image import ImageDataGenerator"
   ]
  },
  {
   "cell_type": "code",
   "execution_count": null,
   "id": "b68fb77b",
   "metadata": {},
   "outputs": [
    {
     "name": "stdout",
     "output_type": "stream",
     "text": [
      "Found 28709 images belonging to 7 classes.\n",
      "Found 7178 images belonging to 7 classes.\n"
     ]
    },
    {
     "name": "stderr",
     "output_type": "stream",
     "text": [
      "C:\\Users\\HP\\anaconda3\\lib\\site-packages\\keras\\optimizers\\optimizer_v2\\adam.py:117: UserWarning: The `lr` argument is deprecated, use `learning_rate` instead.\n",
      "  super().__init__(name, **kwargs)\n",
      "C:\\Users\\HP\\AppData\\Local\\Temp\\ipykernel_6876\\3131157810.py:44: UserWarning: `Model.fit_generator` is deprecated and will be removed in a future version. Please use `Model.fit`, which supports generators.\n",
      "  emotion_model_info = emotion_model.fit_generator(\n"
     ]
    },
    {
     "name": "stdout",
     "output_type": "stream",
     "text": [
      "Epoch 1/50\n",
      "448/448 [==============================] - 805s 2s/step - loss: 1.7901 - accuracy: 0.2669 - val_loss: 1.6771 - val_accuracy: 0.3405\n",
      "Epoch 2/50\n",
      "448/448 [==============================] - 690s 2s/step - loss: 1.6014 - accuracy: 0.3765 - val_loss: 1.5125 - val_accuracy: 0.4255\n",
      "Epoch 3/50\n",
      "448/448 [==============================] - 969s 2s/step - loss: 1.5011 - accuracy: 0.4212 - val_loss: 1.4351 - val_accuracy: 0.4554\n",
      "Epoch 4/50\n",
      "448/448 [==============================] - 746s 2s/step - loss: 1.4308 - accuracy: 0.4543 - val_loss: 1.3777 - val_accuracy: 0.4754\n",
      "Epoch 5/50\n",
      "448/448 [==============================] - 621s 1s/step - loss: 1.3708 - accuracy: 0.4760 - val_loss: 1.3251 - val_accuracy: 0.4987\n",
      "Epoch 6/50\n",
      "448/448 [==============================] - 659s 1s/step - loss: 1.3212 - accuracy: 0.4969 - val_loss: 1.2878 - val_accuracy: 0.5098\n",
      "Epoch 7/50\n",
      "448/448 [==============================] - 784s 2s/step - loss: 1.2812 - accuracy: 0.5161 - val_loss: 1.2607 - val_accuracy: 0.5269\n",
      "Epoch 8/50\n",
      "448/448 [==============================] - 951s 2s/step - loss: 1.2448 - accuracy: 0.5309 - val_loss: 1.2314 - val_accuracy: 0.5352\n",
      "Epoch 9/50\n",
      "448/448 [==============================] - 805s 2s/step - loss: 1.2098 - accuracy: 0.5426 - val_loss: 1.2173 - val_accuracy: 0.5384\n",
      "Epoch 10/50\n",
      "448/448 [==============================] - 931s 2s/step - loss: 1.1786 - accuracy: 0.5551 - val_loss: 1.1907 - val_accuracy: 0.5458\n",
      "Epoch 11/50\n",
      "448/448 [==============================] - 867s 2s/step - loss: 1.1521 - accuracy: 0.5669 - val_loss: 1.1669 - val_accuracy: 0.5554\n",
      "Epoch 12/50\n",
      "448/448 [==============================] - 1029s 2s/step - loss: 1.1316 - accuracy: 0.5744 - val_loss: 1.1649 - val_accuracy: 0.5598\n",
      "Epoch 13/50\n",
      "448/448 [==============================] - 837s 2s/step - loss: 1.1030 - accuracy: 0.5868 - val_loss: 1.1378 - val_accuracy: 0.5684\n",
      "Epoch 14/50\n",
      "140/448 [========>.....................] - ETA: 7:42 - loss: 1.0692 - accuracy: 0.5983"
     ]
    }
   ],
   "source": [
    "train_data_gen = ImageDataGenerator(rescale=1./255)\n",
    "validation_data_gen = ImageDataGenerator(rescale=1./255)\n",
    "\n",
    "# Preprocess all test images\n",
    "train_generator = train_data_gen.flow_from_directory(\n",
    "        'data/train',\n",
    "        target_size=(48, 48),\n",
    "        batch_size=64,\n",
    "        color_mode=\"grayscale\",\n",
    "        class_mode='categorical')\n",
    "\n",
    "# Preprocess all train images\n",
    "validation_generator = validation_data_gen.flow_from_directory(\n",
    "        'data/test',\n",
    "        target_size=(48, 48),\n",
    "        batch_size=64,\n",
    "        color_mode=\"grayscale\",\n",
    "        class_mode='categorical')\n",
    "\n",
    "# create model structure\n",
    "emotion_model = Sequential()\n",
    "\n",
    "emotion_model.add(Conv2D(32, kernel_size=(3, 3), activation='relu', input_shape=(48, 48, 1)))\n",
    "emotion_model.add(Conv2D(64, kernel_size=(3, 3), activation='relu'))\n",
    "emotion_model.add(MaxPooling2D(pool_size=(2, 2)))\n",
    "emotion_model.add(Dropout(0.25))\n",
    "\n",
    "emotion_model.add(Conv2D(128, kernel_size=(3, 3), activation='relu'))\n",
    "emotion_model.add(MaxPooling2D(pool_size=(2, 2)))\n",
    "emotion_model.add(Conv2D(128, kernel_size=(3, 3), activation='relu'))\n",
    "emotion_model.add(MaxPooling2D(pool_size=(2, 2)))\n",
    "emotion_model.add(Dropout(0.25))\n",
    "\n",
    "emotion_model.add(Flatten())\n",
    "emotion_model.add(Dense(1024, activation='relu'))\n",
    "emotion_model.add(Dropout(0.5))\n",
    "emotion_model.add(Dense(7, activation='softmax'))\n",
    "\n",
    "cv2.ocl.setUseOpenCL(False)\n",
    "\n",
    "emotion_model.compile(loss='categorical_crossentropy', optimizer=Adam(lr=0.0001, decay=1e-6), metrics=['accuracy'])\n",
    "\n",
    "# Train the neural network/model\n",
    "emotion_model_info = emotion_model.fit_generator(\n",
    "        train_generator,\n",
    "        steps_per_epoch=28709 // 64,\n",
    "        epochs=50,\n",
    "        validation_data=validation_generator,\n",
    "        validation_steps=7178 // 64)\n",
    "\n",
    "# save model structure in jason file\n",
    "model_json = emotion_model.to_json()\n",
    "with open(\"emotion_model.json\", \"w\") as json_file:\n",
    "    json_file.write(model_json)\n",
    "\n",
    "# save trained model weight in .h5 file\n",
    "emotion_model.save_weights('emotion_model2.h5')\n",
    "\n"
   ]
  },
  {
   "cell_type": "code",
   "execution_count": null,
   "id": "49130c5e",
   "metadata": {},
   "outputs": [],
   "source": []
  },
  {
   "cell_type": "code",
   "execution_count": null,
   "id": "feced22f",
   "metadata": {},
   "outputs": [],
   "source": []
  }
 ],
 "metadata": {
  "kernelspec": {
   "display_name": "Python 3 (ipykernel)",
   "language": "python",
   "name": "python3"
  },
  "language_info": {
   "codemirror_mode": {
    "name": "ipython",
    "version": 3
   },
   "file_extension": ".py",
   "mimetype": "text/x-python",
   "name": "python",
   "nbconvert_exporter": "python",
   "pygments_lexer": "ipython3",
   "version": "3.9.16"
  }
 },
 "nbformat": 4,
 "nbformat_minor": 5
}
